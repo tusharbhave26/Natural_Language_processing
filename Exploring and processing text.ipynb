{
 "cells": [
  {
   "cell_type": "markdown",
   "id": "fb723538",
   "metadata": {},
   "source": [
    "### Preprocessing :\n",
    "\n",
    "Preprocessing involves transforming raw text data into an\n",
    "understandable format. Real-world data is very often incomplete,\n",
    "inconsistent, and filled with a lot of noise and is likely to contain many\n",
    "errors. Preprocessing is a proven method of resolving such issues. Data\n",
    "preprocessing prepares raw text data for further processing"
   ]
  },
  {
   "cell_type": "markdown",
   "id": "a8faf3f0",
   "metadata": {},
   "source": [
    "#### Converting Text data to lower case"
   ]
  },
  {
   "cell_type": "code",
   "execution_count": 8,
   "id": "e3684d00",
   "metadata": {},
   "outputs": [
    {
     "name": "stdout",
     "output_type": "stream",
     "text": [
      "                                              tweets\n",
      "0                        This is introduction to NLP\n",
      "1              It is likely to be useful, to people \n",
      "2             Machine learning is the new electrcity\n",
      "3  There would be less hype around AI and more ac...\n",
      "4                           python is the best tool!\n",
      "5                                R is good langauage\n",
      "6                                   I like this book\n",
      "7                        I want more books like this\n"
     ]
    }
   ],
   "source": [
    "# Converting the text data to lower case\n",
    "\n",
    "text=['This is introduction to NLP','It is likely to be useful, to people ',\\\n",
    "      'Machine learning is the new electrcity','There would be less hype around AI and more action goingforward',\n",
    "      'python is the best tool!','R is good langauage', 'I like this book','I want more books like this']\n",
    "\n",
    "# Convert the list to Data frame\n",
    "\n",
    "import pandas as pd\n",
    "\n",
    "df = pd.DataFrame({'tweets' : text})\n",
    "print(df)"
   ]
  },
  {
   "cell_type": "code",
   "execution_count": 9,
   "id": "bc13b574",
   "metadata": {},
   "outputs": [
    {
     "data": {
      "text/plain": [
       "'tushar'"
      ]
     },
     "execution_count": 9,
     "metadata": {},
     "output_type": "execute_result"
    }
   ],
   "source": [
    "\"TUSHAR\".lower()"
   ]
  },
  {
   "cell_type": "code",
   "execution_count": 10,
   "id": "845cbe08",
   "metadata": {},
   "outputs": [],
   "source": [
    "df['tweets'] = df['tweets'].apply(lambda x:\" \".join(x.lower() for x in x.split()))"
   ]
  },
  {
   "cell_type": "markdown",
   "id": "7d3ba3e9",
   "metadata": {},
   "source": [
    "#### Removing punctuation\n",
    "\n",
    "The simplest way to do this is by using the regex and replace() function in\n",
    "Python."
   ]
  },
  {
   "cell_type": "code",
   "execution_count": 29,
   "id": "9d9f5454",
   "metadata": {},
   "outputs": [
    {
     "name": "stdout",
     "output_type": "stream",
     "text": [
      "                                              tweets\n",
      "0                        This is introduction to NLP\n",
      "1              It is likely to be useful, to people \n",
      "2             Machine learning is the new electrcity\n",
      "3  There would be less hype around AI and more ac...\n",
      "4                           python is the best tool!\n",
      "5                                R is good langauage\n",
      "6                                   I like this book\n",
      "7                        I want more books like this\n"
     ]
    }
   ],
   "source": [
    "text=['This is introduction to NLP','It is likely to be useful, to people ',\n",
    "      'Machine learning is the new electrcity','There would be less hype around AI and more action goingforward',\n",
    "      'python is the best tool!','R is good langauage','I like this book','I want more books like this']\n",
    "\n",
    "df = pd.DataFrame({'tweets': text})\n",
    "print(df)"
   ]
  },
  {
   "cell_type": "code",
   "execution_count": 23,
   "id": "39a91e01",
   "metadata": {},
   "outputs": [],
   "source": [
    "import re\n",
    "\n",
    "s = 'I. Like. This book!'\n",
    "\n",
    "s1 = re.sub(r'[^\\w\\s]',\"\",s)"
   ]
  },
  {
   "cell_type": "code",
   "execution_count": 24,
   "id": "9aa56458",
   "metadata": {},
   "outputs": [
    {
     "data": {
      "text/plain": [
       "'I Like This book'"
      ]
     },
     "execution_count": 24,
     "metadata": {},
     "output_type": "execute_result"
    }
   ],
   "source": [
    "s1"
   ]
  },
  {
   "cell_type": "code",
   "execution_count": 30,
   "id": "54d32bb4",
   "metadata": {},
   "outputs": [],
   "source": [
    "df['tweets'] = df['tweets'].apply(lambda x:\" \".join(re.sub(r'[^\\w\\s]', \"\",x) for x in x.split() ))\n",
    "# df['tweets'] = df['tweets'].str.replace(r'[^\\w\\s]', \"\")"
   ]
  },
  {
   "cell_type": "code",
   "execution_count": 31,
   "id": "29f5198f",
   "metadata": {},
   "outputs": [
    {
     "name": "stdout",
     "output_type": "stream",
     "text": [
      "0                          This is introduction to NLP\n",
      "1                  It is likely to be useful to people\n",
      "2               Machine learning is the new electrcity\n",
      "3    There would be less hype around AI and more ac...\n",
      "4                              python is the best tool\n",
      "5                                  R is good langauage\n",
      "6                                     I like this book\n",
      "7                          I want more books like this\n",
      "Name: tweets, dtype: object\n"
     ]
    }
   ],
   "source": [
    "print(df['tweets'])"
   ]
  },
  {
   "cell_type": "markdown",
   "id": "142c347c",
   "metadata": {},
   "source": [
    "#### Removing Stop words\n",
    "\n",
    "Stop words are very common words that carry no meaning or less meaning compared\n",
    "to other keywords. If we remove the words that are less commonly used,\n",
    "we can focus on the important keywords instead. Say, for example, in the\n",
    "context of a search engine, if your search query is “How to develop chatbot\n",
    "using python,” if the search engine tries to find web pages that contained the\n",
    "terms “how,” “to,” “develop,” “chatbot,” “using,” “python,” the search engine\n",
    "is going to find a lot more pages that contain the terms “how” and “to” than\n",
    "pages that contain information about developing chatbot because the terms\n",
    "“how” and “to” are so commonly used in the English language. So, if we\n",
    "remove such terms, the search engine can actually focus on retrieving pages\n",
    "that contain the keywords: “develop,” “chatbot,” “python” – which would\n",
    "more closely bring up pages that are of real interest. Similarly we can remove\n",
    "more common words and rare words as well."
   ]
  },
  {
   "cell_type": "code",
   "execution_count": 1,
   "id": "9f7d8218",
   "metadata": {},
   "outputs": [],
   "source": [
    "text=['This is introduction to NLP','It is likely to be useful, to people ',\n",
    "      'Machine learning is the new electrcity','There would be less hype around AI and more action goingforward',\n",
    "      'python is the best tool!','R is good langauage','I like this book','I want more books like this']\n",
    "\n",
    "import pandas as pd\n",
    "\n",
    "df = pd.DataFrame({'tweets':text})"
   ]
  },
  {
   "cell_type": "code",
   "execution_count": 2,
   "id": "27c67bcb",
   "metadata": {},
   "outputs": [
    {
     "name": "stdout",
     "output_type": "stream",
     "text": [
      "                                              tweets\n",
      "0                        This is introduction to NLP\n",
      "1              It is likely to be useful, to people \n",
      "2             Machine learning is the new electrcity\n",
      "3  There would be less hype around AI and more ac...\n",
      "4                           python is the best tool!\n",
      "5                                R is good langauage\n",
      "6                                   I like this book\n",
      "7                        I want more books like this\n"
     ]
    }
   ],
   "source": [
    "print(df)"
   ]
  },
  {
   "cell_type": "code",
   "execution_count": 8,
   "id": "6479c224",
   "metadata": {},
   "outputs": [],
   "source": [
    "import nltk\n",
    "from nltk.corpus import stopwords\n",
    "\n",
    "stop = stopwords.words(\"english\")\n",
    "\n",
    "df['tweets'] = df['tweets'].apply(lambda x:\" \".join(x for x in x.split() if x not in stop))"
   ]
  },
  {
   "cell_type": "code",
   "execution_count": 9,
   "id": "4f9ae8f1",
   "metadata": {},
   "outputs": [
    {
     "name": "stdout",
     "output_type": "stream",
     "text": [
      "0                                This introduction NLP\n",
      "1                             It likely useful, people\n",
      "2                      Machine learning new electrcity\n",
      "3    There would less hype around AI action goingfo...\n",
      "4                                    python best tool!\n",
      "5                                     R good langauage\n",
      "6                                          I like book\n",
      "7                                    I want books like\n",
      "Name: tweets, dtype: object\n"
     ]
    }
   ],
   "source": [
    "print(df['tweets'])"
   ]
  },
  {
   "cell_type": "markdown",
   "id": "934f8238",
   "metadata": {},
   "source": [
    "#### Text Standardization\n",
    "\n",
    "Most of the text data is in the form of either customer reviews, blogs, or tweets,\n",
    "where there is a high chance of people using short words and abbreviations to\n",
    "represent the same meaning. This may help the downstream process to easily\n",
    "understand and resolve the semantics of the text."
   ]
  },
  {
   "cell_type": "code",
   "execution_count": 36,
   "id": "761da443",
   "metadata": {},
   "outputs": [
    {
     "data": {
      "text/plain": [
       "'I like natural language processing its your choice What about you laugh out loud'"
      ]
     },
     "execution_count": 36,
     "metadata": {},
     "output_type": "execute_result"
    }
   ],
   "source": [
    "lookup_dict = {'nlp':'natural language processing',\n",
    "               'ur':'your','wbu':'What about you','lol':'laugh out loud'}\n",
    "\n",
    "import re\n",
    "\n",
    "# Create a custom function for text standardization\n",
    "\n",
    "def text_std(input_text):\n",
    "    words = input_text.split()\n",
    "    new_words = []\n",
    "    for word in words:\n",
    "        word = re.sub(r'[^\\w\\s]',\"\",word)\n",
    "        if word.lower() in lookup_dict:\n",
    "            word = lookup_dict[word.lower()]\n",
    "            new_words.append(word)\n",
    "        else:\n",
    "            new_words.append(word)\n",
    "    new_text = \" \".join(new_words)\n",
    "    return new_text\n",
    "# run text_std\n",
    "\n",
    "text_std(\"I like nlp it's ur choice wbu lol\")"
   ]
  },
  {
   "cell_type": "markdown",
   "id": "c91ab094",
   "metadata": {},
   "source": [
    "#### correcting spelling:\n",
    "\n",
    "Most of the text data is in the form of either customer reviews, blogs, or\n",
    "tweets, where there is a high chance of people using short words and\n",
    "making typo errors. This will help us in reducing multiple copies of words,\n",
    "which represents the same meaning. For example, “proccessing” and\n",
    "“processing” will be treated as different words even if they are used in the\n",
    "same sense."
   ]
  },
  {
   "cell_type": "code",
   "execution_count": 38,
   "id": "90944c04",
   "metadata": {},
   "outputs": [
    {
     "name": "stdout",
     "output_type": "stream",
     "text": [
      "                                   tweets\n",
      "0                     Introduction to NLP\n",
      "1   It is likely to be useful, to people \n",
      "2  Machine learning is the new electrcity\n",
      "3                     R is good langauage\n",
      "4                        I like this book\n",
      "5             I want more books like this\n"
     ]
    }
   ],
   "source": [
    "text=['Introduction to NLP','It is likely to be useful, to people ','Machine learning is the new electrcity', \n",
    "      'R is good langauage','I like this book','I want more books like this']\n",
    "\n",
    "df = pd.DataFrame({'tweets': text})\n",
    "print(df)"
   ]
  },
  {
   "cell_type": "code",
   "execution_count": 45,
   "id": "d18f476b",
   "metadata": {},
   "outputs": [
    {
     "data": {
      "text/plain": [
       "0                        Introduction to NLP\n",
       "1      It is likely to be useful, to people \n",
       "2    Machine learning is the new electricity\n",
       "3                         R is good language\n",
       "4                           I like this book\n",
       "5                I want more books like this\n",
       "Name: tweets, dtype: object"
      ]
     },
     "execution_count": 45,
     "metadata": {},
     "output_type": "execute_result"
    }
   ],
   "source": [
    "from textblob import TextBlob\n",
    "\n",
    "df['tweets'].apply(lambda x: str(TextBlob(x).correct()))"
   ]
  },
  {
   "cell_type": "markdown",
   "id": "8428befa",
   "metadata": {},
   "source": [
    "#### Tokenizing\n",
    "\n",
    "Tokenization refers to\n",
    "splitting text into minimal meaningful units. There is a sentence tokenizer\n",
    "and word tokenizer. We will see a word tokenizer in this recipe, which is\n",
    "a mandatory step in text preprocessing for any kind of analysis. There are\n",
    "many libraries to perform tokenization like NLTK, SpaCy, and TextBlob.\n",
    "Here are a few ways to achieve it"
   ]
  },
  {
   "cell_type": "code",
   "execution_count": 51,
   "id": "6c71ffbd",
   "metadata": {},
   "outputs": [
    {
     "name": "stdout",
     "output_type": "stream",
     "text": [
      "                                   tweets\n",
      "0                     Introduction to NLP\n",
      "1   It is likely to be useful, to people \n",
      "2  Machine learning is the new electrcity\n",
      "3                     R is good langauage\n",
      "4                        I like this book\n",
      "5             I want more books like this\n"
     ]
    }
   ],
   "source": [
    "text=['Introduction to NLP','It is likely to be useful, to people ','Machine learning is the new electrcity', \n",
    "      'R is good langauage','I like this book','I want more books like this']\n",
    "df = pd.DataFrame({'tweets': text})\n",
    "print(df)"
   ]
  },
  {
   "cell_type": "code",
   "execution_count": 55,
   "id": "dbad79b8",
   "metadata": {},
   "outputs": [
    {
     "data": {
      "text/plain": [
       "WordList(['R', 'is', 'good', 'langauage'])"
      ]
     },
     "execution_count": 55,
     "metadata": {},
     "output_type": "execute_result"
    }
   ],
   "source": [
    "TextBlob(df['tweets'][3]).words"
   ]
  },
  {
   "cell_type": "code",
   "execution_count": 56,
   "id": "56bfe0de",
   "metadata": {},
   "outputs": [
    {
     "data": {
      "text/plain": [
       "['Cat', 'is', 'a', 'good', 'animal']"
      ]
     },
     "execution_count": 56,
     "metadata": {},
     "output_type": "execute_result"
    }
   ],
   "source": [
    "my_string = \"Cat is a good animal\"\n",
    "\n",
    "nltk.word_tokenize(my_string)"
   ]
  },
  {
   "cell_type": "code",
   "execution_count": 57,
   "id": "d27f9bbd",
   "metadata": {},
   "outputs": [
    {
     "data": {
      "text/plain": [
       "['Cat', 'is', 'a', 'good', 'animal']"
      ]
     },
     "execution_count": 57,
     "metadata": {},
     "output_type": "execute_result"
    }
   ],
   "source": [
    "my_string.split()"
   ]
  },
  {
   "cell_type": "code",
   "execution_count": 59,
   "id": "1f21a42d",
   "metadata": {},
   "outputs": [
    {
     "data": {
      "text/plain": [
       "WordList(['Cat', 'is', 'a', 'good', 'animal'])"
      ]
     },
     "execution_count": 59,
     "metadata": {},
     "output_type": "execute_result"
    }
   ],
   "source": [
    "TextBlob(my_string).words"
   ]
  },
  {
   "cell_type": "markdown",
   "id": "ca6d8a3d",
   "metadata": {},
   "source": [
    "#### Stemming:\n",
    "Stemming is a process of\n",
    "extracting a root word. For example, “fish,” “fishes,” and “fishing” are\n",
    "stemmed into fish."
   ]
  },
  {
   "cell_type": "code",
   "execution_count": 63,
   "id": "9351eadb",
   "metadata": {},
   "outputs": [
    {
     "data": {
      "text/plain": [
       "0                       i like fish\n",
       "1                        i eat fish\n",
       "2    there are mani fish in the sea\n",
       "Name: tweets, dtype: object"
      ]
     },
     "execution_count": 63,
     "metadata": {},
     "output_type": "execute_result"
    }
   ],
   "source": [
    "text = ['I like Fishing', 'I eat fish', 'there are many fishes in the sea']\n",
    "\n",
    "df = pd.DataFrame({'tweets':text})\n",
    "\n",
    "st = nltk.stem.PorterStemmer()\n",
    "\n",
    "df['tweets'][:5].apply(lambda x:\" \".join([st.stem(words) for words in x.split()]))"
   ]
  },
  {
   "cell_type": "markdown",
   "id": "ea0afdbc",
   "metadata": {},
   "source": [
    "#### Lemmitization:\n",
    "\n",
    "Lemmatization is a process of\n",
    "extracting a root word by considering the vocabulary. For example, “good,”\n",
    "“better,” or “best” is lemmatized into good"
   ]
  },
  {
   "cell_type": "code",
   "execution_count": 68,
   "id": "e6d3aaa8",
   "metadata": {},
   "outputs": [],
   "source": [
    "text = ['I like Fishing', 'I eat fish', 'there are many fishes in the sea','leaves and leaf']\n",
    "df = pd.DataFrame({'tweets':text})\n",
    "\n",
    "from textblob import Word\n",
    "\n",
    "# df['tweets'].apply(lambda x: \" \".join([Word(word).lemmatize for word in x.split()]))\n",
    "df['tweets'] = df['tweets'].apply(lambda x: \" \".join([Word(word).lemmatize() for word in x.split()]))"
   ]
  },
  {
   "cell_type": "code",
   "execution_count": 70,
   "id": "f91c7706",
   "metadata": {},
   "outputs": [
    {
     "data": {
      "text/plain": [
       "0                    I like Fishing\n",
       "1                        I eat fish\n",
       "2    there are many fish in the sea\n",
       "3                     leaf and leaf\n",
       "Name: tweets, dtype: object"
      ]
     },
     "execution_count": 70,
     "metadata": {},
     "output_type": "execute_result"
    }
   ],
   "source": [
    "df['tweets']"
   ]
  },
  {
   "cell_type": "markdown",
   "id": "0576f00c",
   "metadata": {},
   "source": [
    "#### Exploring the text data"
   ]
  },
  {
   "cell_type": "code",
   "execution_count": 71,
   "id": "d359562a",
   "metadata": {},
   "outputs": [
    {
     "name": "stderr",
     "output_type": "stream",
     "text": [
      "[nltk_data] Downloading package webtext to\n",
      "[nltk_data]     C:\\Users\\koolt\\AppData\\Roaming\\nltk_data...\n",
      "[nltk_data]   Package webtext is already up-to-date!\n"
     ]
    }
   ],
   "source": [
    "from nltk.corpus import webtext\n",
    "nltk.download('webtext')\n",
    "wt_sentences = webtext.sents('firefox.txt')\n",
    "wt_words = webtext.words('firefox.txt')"
   ]
  },
  {
   "cell_type": "code",
   "execution_count": 72,
   "id": "c774145f",
   "metadata": {},
   "outputs": [
    {
     "data": {
      "text/plain": [
       "1138"
      ]
     },
     "execution_count": 72,
     "metadata": {},
     "output_type": "execute_result"
    }
   ],
   "source": [
    "len(wt_sentences)"
   ]
  },
  {
   "cell_type": "code",
   "execution_count": 73,
   "id": "a9989646",
   "metadata": {},
   "outputs": [
    {
     "data": {
      "text/plain": [
       "102457"
      ]
     },
     "execution_count": 73,
     "metadata": {},
     "output_type": "execute_result"
    }
   ],
   "source": [
    "len(wt_words)"
   ]
  },
  {
   "cell_type": "code",
   "execution_count": 76,
   "id": "a95a2daa",
   "metadata": {},
   "outputs": [
    {
     "data": {
      "text/plain": [
       "FreqDist({'.': 2428, 'in': 2203, 'to': 2130, '\"': 1971, 'the': 1762, \"'\": 1507, 'not': 1472, '-': 1372, 'when': 1255, 'on': 1193, ...})"
      ]
     },
     "execution_count": 76,
     "metadata": {},
     "output_type": "execute_result"
    }
   ],
   "source": [
    "from nltk.probability import FreqDist\n",
    "from nltk.corpus import stopwords\n",
    "import string\n",
    "\n",
    "frequency_dist = nltk.FreqDist(wt_words)\n",
    "frequency_dist"
   ]
  },
  {
   "cell_type": "code",
   "execution_count": 77,
   "id": "fe69fc24",
   "metadata": {},
   "outputs": [
    {
     "data": {
      "text/plain": [
       "['.',\n",
       " 'in',\n",
       " 'to',\n",
       " '\"',\n",
       " 'the',\n",
       " \"'\",\n",
       " 'not',\n",
       " '-',\n",
       " 'when',\n",
       " 'on',\n",
       " 'a',\n",
       " 'is',\n",
       " 't',\n",
       " 'and',\n",
       " 'of',\n",
       " '(',\n",
       " 'page',\n",
       " 'for',\n",
       " 'with',\n",
       " ')',\n",
       " 'window',\n",
       " 'Firefox',\n",
       " 'does',\n",
       " 'from',\n",
       " 'open',\n",
       " ':',\n",
       " 'menu',\n",
       " 'should',\n",
       " 'bar',\n",
       " 'tab',\n",
       " 'doesn',\n",
       " 'after',\n",
       " 'Firebird',\n",
       " 'new',\n",
       " 'work',\n",
       " 'browser',\n",
       " 'if',\n",
       " 'be',\n",
       " '0',\n",
       " 'toolbar',\n",
       " 'button',\n",
       " 'bookmarks',\n",
       " 'dialog',\n",
       " 'bookmark',\n",
       " 'as',\n",
       " 'file',\n",
       " 'URL',\n",
       " 'download',\n",
       " 'crashes',\n",
       " 'I',\n",
       " 'no',\n",
       " 'text',\n",
       " 'are',\n",
       " 'or',\n",
       " 'up',\n",
       " 'crash',\n",
       " 'click',\n",
       " 'tabs',\n",
       " 'Bookmarks',\n",
       " 'link',\n",
       " '/',\n",
       " 'firefox',\n",
       " 'manager',\n",
       " '+',\n",
       " 'using',\n",
       " 'it',\n",
       " 'Mozilla',\n",
       " 'default',\n",
       " 'error',\n",
       " 'all',\n",
       " 'an',\n",
       " 'clicking',\n",
       " 's',\n",
       " 'windows',\n",
       " 'search',\n",
       " 'folder',\n",
       " ']',\n",
       " 'Phoenix',\n",
       " '1',\n",
       " 'at',\n",
       " 'icon',\n",
       " 'Manager',\n",
       " 'by',\n",
       " 'this',\n",
       " 'site',\n",
       " 'can',\n",
       " 'files',\n",
       " 'Page',\n",
       " 'fails',\n",
       " 'causes',\n",
       " 'use',\n",
       " 'close',\n",
       " '[',\n",
       " 'opening',\n",
       " 'Toolbar',\n",
       " 'Add',\n",
       " 'has',\n",
       " 'Bookmark',\n",
       " 'right',\n",
       " 'display',\n",
       " 'down',\n",
       " 'that',\n",
       " 'theme',\n",
       " 'box',\n",
       " 'Download',\n",
       " '9',\n",
       " 'The',\n",
       " 'pages',\n",
       " 'firebird',\n",
       " 'only',\n",
       " 'url',\n",
       " 'while',\n",
       " 'have',\n",
       " 'image',\n",
       " 'links',\n",
       " 'When',\n",
       " 'location',\n",
       " 'Crash',\n",
       " 'option',\n",
       " 'scroll',\n",
       " 'load',\n",
       " 'cannot',\n",
       " 'Options',\n",
       " 'address',\n",
       " '>',\n",
       " 'Can',\n",
       " 'start',\n",
       " 'password',\n",
       " 'com',\n",
       " 'do',\n",
       " '->',\n",
       " 'extension',\n",
       " 'install',\n",
       " 'back',\n",
       " 'buttons',\n",
       " 'history',\n",
       " 'loading',\n",
       " 'don',\n",
       " 'you',\n",
       " 'web',\n",
       " 'form',\n",
       " 'instead',\n",
       " 'wrong',\n",
       " 'No',\n",
       " 'show',\n",
       " 'mouse',\n",
       " 'build',\n",
       " 'sidebar',\n",
       " 'about',\n",
       " 'focus',\n",
       " 'will',\n",
       " 'http',\n",
       " '://',\n",
       " 'set',\n",
       " 'broken',\n",
       " 'Windows',\n",
       " 'popup',\n",
       " 'some',\n",
       " 'icons',\n",
       " 'opens',\n",
       " 'drop',\n",
       " 'context',\n",
       " 'into',\n",
       " 'autocomplete',\n",
       " '8',\n",
       " 'preferences',\n",
       " 'missing',\n",
       " 'screen',\n",
       " 'one',\n",
       " 'save',\n",
       " 'Open',\n",
       " 'field',\n",
       " 'print',\n",
       " 'Ctrl',\n",
       " 'working',\n",
       " 'images',\n",
       " 'profile',\n",
       " 'other',\n",
       " 'options',\n",
       " 'mozilla',\n",
       " 'add',\n",
       " 'New',\n",
       " 'Find',\n",
       " 'Browser',\n",
       " 'startup',\n",
       " 'any',\n",
       " 'change',\n",
       " 'size',\n",
       " 'list',\n",
       " 'javascript',\n",
       " 'opened',\n",
       " 'first',\n",
       " 'type',\n",
       " 'user',\n",
       " 'too',\n",
       " 'trying',\n",
       " 'but',\n",
       " '2',\n",
       " 'like',\n",
       " '<',\n",
       " 'extensions',\n",
       " 'displayed',\n",
       " 'multiple',\n",
       " 'Save',\n",
       " 'phoenix',\n",
       " 'selected',\n",
       " 'Cannot',\n",
       " 'time',\n",
       " 'i',\n",
       " 'won',\n",
       " 'shows',\n",
       " 'properly',\n",
       " 'over',\n",
       " 'appears',\n",
       " 'view',\n",
       " 'Error',\n",
       " 'X',\n",
       " 'name',\n",
       " 'correctly',\n",
       " 'always',\n",
       " ';',\n",
       " 'left',\n",
       " 'item',\n",
       " 'hangs',\n",
       " 'appear',\n",
       " 'background',\n",
       " 'menus',\n",
       " 'UI',\n",
       " 'directory',\n",
       " 'input',\n",
       " 'application',\n",
       " 'themes',\n",
       " 'version',\n",
       " 'message',\n",
       " 'same',\n",
       " 'blank',\n",
       " 'View',\n",
       " 'Web',\n",
       " 'www',\n",
       " 'File',\n",
       " 'middle',\n",
       " 'Tab',\n",
       " 'OS',\n",
       " 'even',\n",
       " 'go',\n",
       " 'folders',\n",
       " 'scrolling',\n",
       " 'html',\n",
       " 'keyboard',\n",
       " 'off',\n",
       " 'without',\n",
       " 'non',\n",
       " 'Tools',\n",
       " 'Menu',\n",
       " 'line',\n",
       " 'my',\n",
       " 'Preferences',\n",
       " 'proxy',\n",
       " 'saved',\n",
       " 'out',\n",
       " '6',\n",
       " 'sites',\n",
       " 'IE',\n",
       " 'Clicking',\n",
       " 'select',\n",
       " 'content',\n",
       " 'Search',\n",
       " 'home',\n",
       " 'than',\n",
       " 'update',\n",
       " 'shortcut',\n",
       " 'items',\n",
       " 'get',\n",
       " 'under',\n",
       " 'source',\n",
       " 'preview',\n",
       " 'current',\n",
       " 'closing',\n",
       " '&',\n",
       " 'find',\n",
       " 'Javascript',\n",
       " 'clicked',\n",
       " 'cookies',\n",
       " '|',\n",
       " 'plugin',\n",
       " 'empty',\n",
       " 'key',\n",
       " 'History',\n",
       " 'remove',\n",
       " 'running',\n",
       " '...',\n",
       " 'disabled',\n",
       " 'longer',\n",
       " 'support',\n",
       " 'dropdown',\n",
       " 'status',\n",
       " 'installer',\n",
       " 'installing',\n",
       " '7',\n",
       " 'works',\n",
       " 'displays',\n",
       " 'document',\n",
       " 'allow',\n",
       " 'JavaScript',\n",
       " 'Password',\n",
       " 'shown',\n",
       " 'After',\n",
       " 'top',\n",
       " 'downloads',\n",
       " 'OK',\n",
       " 'last',\n",
       " 'mode',\n",
       " 'Folder',\n",
       " 'more',\n",
       " 'enter',\n",
       " 'drag',\n",
       " 'website',\n",
       " 'freezes',\n",
       " 'wheel',\n",
       " 'login',\n",
       " 'launch',\n",
       " 'another',\n",
       " 'needs',\n",
       " 'bug',\n",
       " '3',\n",
       " 'About',\n",
       " 'ctrl',\n",
       " 'being',\n",
       " 'Unable',\n",
       " 'Print',\n",
       " 'function',\n",
       " 'Installer',\n",
       " 'Text',\n",
       " 'Help',\n",
       " 'used',\n",
       " 'disable',\n",
       " 'Extension',\n",
       " 'js',\n",
       " 'Use',\n",
       " 'problem',\n",
       " 'try',\n",
       " 'installed',\n",
       " 'downloading',\n",
       " 'XML',\n",
       " 'make',\n",
       " 'Need',\n",
       " '%',\n",
       " 'settings',\n",
       " 'Linux',\n",
       " 'As',\n",
       " 'cursor',\n",
       " 'enabled',\n",
       " 'still',\n",
       " 'Java',\n",
       " 'run',\n",
       " 'closed',\n",
       " 'found',\n",
       " '::',\n",
       " 'small',\n",
       " 'builds',\n",
       " 'main',\n",
       " 'chrome',\n",
       " 'Tabs',\n",
       " 'system',\n",
       " 'access',\n",
       " 'Mac',\n",
       " '=',\n",
       " 'its',\n",
       " 'installation',\n",
       " '[@',\n",
       " 'browsing',\n",
       " 'slow',\n",
       " 'Profile',\n",
       " 'breaks',\n",
       " 'Location',\n",
       " '()',\n",
       " 'Bar',\n",
       " 'flash',\n",
       " 'Wrong',\n",
       " 'certain',\n",
       " 'Image',\n",
       " 'Default',\n",
       " 'changes',\n",
       " 'loaded',\n",
       " 'two',\n",
       " 'characters',\n",
       " 'pop',\n",
       " 'URLs',\n",
       " 'Link',\n",
       " 'selection',\n",
       " 'server',\n",
       " 'loads',\n",
       " 'between',\n",
       " 'information',\n",
       " 'CPU',\n",
       " 'switching',\n",
       " 'code',\n",
       " 'style',\n",
       " 'then',\n",
       " 'auto',\n",
       " 'import',\n",
       " '4',\n",
       " 'Window',\n",
       " 'incorrectly',\n",
       " 'command',\n",
       " 'was',\n",
       " 'Not',\n",
       " '...\"',\n",
       " 'gets',\n",
       " 'webpage',\n",
       " 'complete',\n",
       " 'CSS',\n",
       " 'FireFox',\n",
       " 'customize',\n",
       " 'second',\n",
       " '!',\n",
       " 'large',\n",
       " 'via',\n",
       " 'delete',\n",
       " 'Sidebar',\n",
       " 'exe',\n",
       " 'tag',\n",
       " 'me',\n",
       " 'Internet',\n",
       " 'Popup',\n",
       " 'java',\n",
       " 'changing',\n",
       " 'entry',\n",
       " 'different',\n",
       " 'way',\n",
       " 'Dialog',\n",
       " 'Flash',\n",
       " 'until',\n",
       " 'full',\n",
       " 'stop',\n",
       " 'pref',\n",
       " 'selecting',\n",
       " 'connection',\n",
       " 'problems',\n",
       " 'nothing',\n",
       " 'dll',\n",
       " 'there',\n",
       " 'already',\n",
       " 'remember',\n",
       " 'through',\n",
       " 'boxes',\n",
       " 'restart',\n",
       " 'incorrect',\n",
       " '5',\n",
       " 'cache',\n",
       " 'homepage',\n",
       " 'Info',\n",
       " 'In',\n",
       " 'very',\n",
       " 'rendering',\n",
       " 'warning',\n",
       " 'which',\n",
       " 'cookie',\n",
       " 'stops',\n",
       " 'results',\n",
       " 'arrow',\n",
       " 'org',\n",
       " 'preference',\n",
       " 'character',\n",
       " 'Downloads',\n",
       " 'mail',\n",
       " 'title',\n",
       " 'data',\n",
       " 'XP',\n",
       " 'Form',\n",
       " 'available',\n",
       " 'Customize',\n",
       " 'Autocomplete',\n",
       " 'Remove',\n",
       " 'Make',\n",
       " '?',\n",
       " 'clear',\n",
       " 'times',\n",
       " 'copy',\n",
       " 'Source',\n",
       " 'sometimes',\n",
       " 'google',\n",
       " 'request',\n",
       " 'HTML',\n",
       " 'makes',\n",
       " 'Theme',\n",
       " 'submit',\n",
       " 'fields',\n",
       " 'create',\n",
       " 'starting',\n",
       " 'This',\n",
       " 'before',\n",
       " 'them',\n",
       " 'Extensions',\n",
       " 'Opening',\n",
       " 'uses',\n",
       " 'prefs',\n",
       " 'visible',\n",
       " 'info',\n",
       " 'gives',\n",
       " 'alert',\n",
       " 'old',\n",
       " 'properties',\n",
       " 'keys',\n",
       " 'goes',\n",
       " 'lost',\n",
       " '=\"',\n",
       " 'blocking',\n",
       " 'favicon',\n",
       " 'disappear',\n",
       " 'toolbars',\n",
       " 'doesnt',\n",
       " 'upon',\n",
       " 'viewing',\n",
       " 'automatically',\n",
       " 'need',\n",
       " 'hang',\n",
       " 'switch',\n",
       " 'showing',\n",
       " 'Back',\n",
       " 'each',\n",
       " 'external',\n",
       " 'Home',\n",
       " 'refresh',\n",
       " 'string',\n",
       " 'All',\n",
       " 'blocked',\n",
       " '100',\n",
       " 'during',\n",
       " 'setting',\n",
       " 'unable',\n",
       " 'many',\n",
       " 'Right',\n",
       " 'Thunderbird',\n",
       " 'navigation',\n",
       " 'move',\n",
       " 'every',\n",
       " 'space',\n",
       " 'downloaded',\n",
       " 'contains',\n",
       " 'Middle',\n",
       " 'double',\n",
       " 'active',\n",
       " 'Option',\n",
       " 'disk',\n",
       " 'If',\n",
       " 'Address',\n",
       " 'scrollbar',\n",
       " 'expand',\n",
       " 'session',\n",
       " 'Images',\n",
       " 'Go',\n",
       " 'completely',\n",
       " 'personal',\n",
       " 'color',\n",
       " 'fonts',\n",
       " 'forms',\n",
       " 'updated',\n",
       " 'where',\n",
       " 'value',\n",
       " 'closes',\n",
       " 'prompt',\n",
       " 'monitor',\n",
       " 'within',\n",
       " 'desktop',\n",
       " 'nightly',\n",
       " 'render',\n",
       " 'linux',\n",
       " 'reload',\n",
       " 'Yahoo',\n",
       " 'release',\n",
       " 'deleted',\n",
       " 'end',\n",
       " 'passwords',\n",
       " 'app',\n",
       " 'inside',\n",
       " 'next',\n",
       " 'Context',\n",
       " 'forward',\n",
       " 'possible',\n",
       " 'part',\n",
       " 'added',\n",
       " 'textbox',\n",
       " 'feature',\n",
       " 'Show',\n",
       " 'just',\n",
       " 'Themes',\n",
       " 'Auto',\n",
       " 'Alt',\n",
       " 'Downloading',\n",
       " 'program',\n",
       " 'help',\n",
       " 'Enter',\n",
       " 'A',\n",
       " 'so',\n",
       " 'been',\n",
       " 'long',\n",
       " 'plugins',\n",
       " 'isn',\n",
       " 'choose',\n",
       " 'RFE',\n",
       " 'shortcuts',\n",
       " 'Toolbars',\n",
       " 'CTRL',\n",
       " 'itself',\n",
       " 'Update',\n",
       " 'usage',\n",
       " 'ability',\n",
       " 'Implement',\n",
       " 'order',\n",
       " 'ignored',\n",
       " 'area',\n",
       " 'twice',\n",
       " 'position',\n",
       " 'Preview',\n",
       " 'disappears',\n",
       " 'existing',\n",
       " 'Mouse',\n",
       " 'Click',\n",
       " 'behaviour',\n",
       " 'edit',\n",
       " 'e',\n",
       " 'cause',\n",
       " 'see',\n",
       " 'displaying',\n",
       " 'again',\n",
       " 'filename',\n",
       " 'deleting',\n",
       " 'https',\n",
       " 'local',\n",
       " 'cust',\n",
       " 'adding',\n",
       " 'remote',\n",
       " 'table',\n",
       " 'accessing',\n",
       " 'dragging',\n",
       " 'Ability',\n",
       " 'typing',\n",
       " 'network',\n",
       " 'action',\n",
       " 'Site',\n",
       " 'immediately',\n",
       " 'starts',\n",
       " 'created',\n",
       " 'certificate',\n",
       " 'saving',\n",
       " 'fail',\n",
       " 'font',\n",
       " 'handling',\n",
       " 'popups',\n",
       " 'Crashes',\n",
       " 'enable',\n",
       " 'due',\n",
       " 'css',\n",
       " 'cancel',\n",
       " 'able',\n",
       " 'hidden',\n",
       " 'panel',\n",
       " 'Close',\n",
       " 'specific',\n",
       " 'Set',\n",
       " 'HTTP',\n",
       " 'PDF',\n",
       " 'failed',\n",
       " 'email',\n",
       " 'Change',\n",
       " 'previous',\n",
       " 'could',\n",
       " 'stored',\n",
       " 'Start',\n",
       " 'net',\n",
       " 'Shift',\n",
       " 'send',\n",
       " 'rendered',\n",
       " 'User',\n",
       " 'checkbox',\n",
       " 'typed',\n",
       " 'Using',\n",
       " 'config',\n",
       " 'Cookie',\n",
       " 'checked',\n",
       " 'memory',\n",
       " 'above',\n",
       " 'resize',\n",
       " 'imported',\n",
       " 'number',\n",
       " 'failure',\n",
       " 'tooltip',\n",
       " 'now',\n",
       " 'contents',\n",
       " 'pdf',\n",
       " 'Full',\n",
       " 'Icon',\n",
       " 'functionality',\n",
       " 'Double',\n",
       " 'It',\n",
       " 're',\n",
       " 'username',\n",
       " 'entered',\n",
       " 'bad',\n",
       " 'href',\n",
       " 'event',\n",
       " 'visiting',\n",
       " 'autoscroll',\n",
       " 'changed',\n",
       " 'Don',\n",
       " 'removed',\n",
       " 'stay',\n",
       " 'script',\n",
       " 'attempting',\n",
       " 'tree',\n",
       " 'Privacy',\n",
       " 'x',\n",
       " 'effect',\n",
       " 'single',\n",
       " 'state',\n",
       " 'control',\n",
       " 'exception',\n",
       " 'fullscreen',\n",
       " 'creates',\n",
       " 'shift',\n",
       " 'responding',\n",
       " 'path',\n",
       " 'present',\n",
       " 'Google',\n",
       " 'dialogs',\n",
       " 'crashed',\n",
       " 'anymore',\n",
       " 'plug',\n",
       " 'locks',\n",
       " 'frame',\n",
       " 'console',\n",
       " 'zip',\n",
       " '*',\n",
       " 'secure',\n",
       " 'seems',\n",
       " 'Personal',\n",
       " 'Scroll',\n",
       " 'respond',\n",
       " 'containing',\n",
       " 'launching',\n",
       " 'place',\n",
       " 'going',\n",
       " 'overflow',\n",
       " 'Get',\n",
       " 'black',\n",
       " 'Selecting',\n",
       " 'side',\n",
       " 'keyword',\n",
       " 'loses',\n",
       " 'behavior',\n",
       " 'accept',\n",
       " 'column',\n",
       " '--',\n",
       " 'bars',\n",
       " 'shouldn',\n",
       " 'says',\n",
       " 'entries',\n",
       " 'printing',\n",
       " 'websites',\n",
       " 'On',\n",
       " 'header',\n",
       " 'never',\n",
       " 'Security',\n",
       " 'Screen',\n",
       " 'xul',\n",
       " 'jar',\n",
       " 'blocker',\n",
       " 'applet',\n",
       " 'bottom',\n",
       " 'width',\n",
       " 'paste',\n",
       " 'what',\n",
       " 'Cancel',\n",
       " 'Allow',\n",
       " 'anything',\n",
       " 'Display',\n",
       " 'Install',\n",
       " 'Manage',\n",
       " 'away',\n",
       " 'pressing',\n",
       " 'Menus',\n",
       " 'once',\n",
       " 'Request',\n",
       " 'ignores',\n",
       " 'specified',\n",
       " 'returns',\n",
       " 'exit',\n",
       " 'include',\n",
       " 'Build',\n",
       " 'tags',\n",
       " 'random',\n",
       " 'parsing',\n",
       " '\\\\',\n",
       " 'tabbed',\n",
       " 'MozillaFirebird',\n",
       " 'attribute',\n",
       " 'stylesheet',\n",
       " 'DOM',\n",
       " 'Edit',\n",
       " 'Bad',\n",
       " 'authentication',\n",
       " 'Mail',\n",
       " 'cut',\n",
       " 'Icons',\n",
       " 'domain',\n",
       " 'Some',\n",
       " 'block',\n",
       " 'tools',\n",
       " 'Should',\n",
       " 'object',\n",
       " 'w',\n",
       " 'loop',\n",
       " 'takes',\n",
       " 'yahoo',\n",
       " 'Advanced',\n",
       " 'Font',\n",
       " 'Type',\n",
       " 'frames',\n",
       " 'Explorer',\n",
       " 'types',\n",
       " 'process',\n",
       " 'Desktop',\n",
       " 'correct',\n",
       " 'Enable',\n",
       " 'tries',\n",
       " 'take',\n",
       " 'Please',\n",
       " 'renders',\n",
       " 'sort',\n",
       " 'applications',\n",
       " 'With',\n",
       " 'Cookies',\n",
       " 'Plugin',\n",
       " 'favicons',\n",
       " 'Problem',\n",
       " 'Incorrect',\n",
       " 'Create',\n",
       " 'fine',\n",
       " 'check',\n",
       " 'pops',\n",
       " 'keeps',\n",
       " 'defined',\n",
       " 'freeze',\n",
       " 'several',\n",
       " '\")',\n",
       " 'needed',\n",
       " 'MS',\n",
       " 'XPI',\n",
       " 'Installing',\n",
       " 'root',\n",
       " 'port',\n",
       " 'elements',\n",
       " 'profiles',\n",
       " 'notification',\n",
       " 'entering',\n",
       " 'keywords',\n",
       " 'target',\n",
       " 'rdf',\n",
       " 'Inspector',\n",
       " 'called',\n",
       " 'made',\n",
       " 'customization',\n",
       " 'throbber',\n",
       " 'fix',\n",
       " 'Navigation',\n",
       " 'restore',\n",
       " 'standard',\n",
       " 'Keyboard',\n",
       " 'security',\n",
       " 'hide',\n",
       " 'invalid',\n",
       " 'look',\n",
       " '10',\n",
       " 'defaults',\n",
       " 'scrollbars',\n",
       " 'big',\n",
       " 'looks',\n",
       " 'latest',\n",
       " 'engine',\n",
       " '.\"',\n",
       " '\".',\n",
       " 'dual',\n",
       " 'undefined',\n",
       " 'gtk2',\n",
       " 'exist',\n",
       " 'listed',\n",
       " '(\"',\n",
       " 'embedded',\n",
       " 'FB',\n",
       " 'Feature',\n",
       " 'given',\n",
       " 'collapse',\n",
       " 'though',\n",
       " 'Missing',\n",
       " 'Import',\n",
       " 'becomes',\n",
       " 'arrows',\n",
       " 'urlbar',\n",
       " 'os',\n",
       " 'Do',\n",
       " 'strange',\n",
       " 'sheet',\n",
       " 'updates',\n",
       " 'pointer',\n",
       " 'brings',\n",
       " 'trunk',\n",
       " 'Status',\n",
       " 'setup',\n",
       " 'extra',\n",
       " 'Load',\n",
       " 'SSL',\n",
       " 'Does',\n",
       " 'remains',\n",
       " 'want',\n",
       " 'Links',\n",
       " 'spaces',\n",
       " 'quit',\n",
       " 'turn',\n",
       " 'Clear',\n",
       " 'word',\n",
       " 'wont',\n",
       " 'hand',\n",
       " 'Select',\n",
       " 'Empty',\n",
       " 'FTP',\n",
       " 'seconds',\n",
       " 'visited',\n",
       " 'Printing',\n",
       " 'reset',\n",
       " 'Netscape',\n",
       " 'element',\n",
       " 'xml',\n",
       " 'result',\n",
       " 'started',\n",
       " 'branch',\n",
       " 'Button',\n",
       " 'mac',\n",
       " 'updating',\n",
       " 'separator',\n",
       " 'manage',\n",
       " 'high',\n",
       " 'Quick',\n",
       " 'implement',\n",
       " 'would',\n",
       " 'refuses',\n",
       " 'customizing',\n",
       " 'give',\n",
       " 'group',\n",
       " 'configuration',\n",
       " 'editing',\n",
       " 'moving',\n",
       " 'Support',\n",
       " 'Drag',\n",
       " 'because',\n",
       " 'mailto',\n",
       " 'pressed',\n",
       " 'own',\n",
       " 'disappeared',\n",
       " 'internet',\n",
       " 'border',\n",
       " 'editor',\n",
       " 'client',\n",
       " 'general',\n",
       " 'resizing',\n",
       " 'also',\n",
       " 'unless',\n",
       " 'There',\n",
       " 'stays',\n",
       " 'based',\n",
       " 'alternate',\n",
       " 'become',\n",
       " 'read',\n",
       " 'finished',\n",
       " 'alt',\n",
       " 'named',\n",
       " 'components',\n",
       " 'Parsing',\n",
       " 'play',\n",
       " 'instance',\n",
       " 'choosing',\n",
       " 'remembered',\n",
       " 'behind',\n",
       " 'Saved',\n",
       " 'animated',\n",
       " 'secondary',\n",
       " 'attempt',\n",
       " 'engines',\n",
       " 'XUL',\n",
       " '#',\n",
       " 'patch',\n",
       " 'progress',\n",
       " 'JS',\n",
       " 'hover',\n",
       " 'colors',\n",
       " 'building',\n",
       " 'General',\n",
       " 'how',\n",
       " 'removing',\n",
       " 'F',\n",
       " ...]"
      ]
     },
     "execution_count": 77,
     "metadata": {},
     "output_type": "execute_result"
    }
   ],
   "source": [
    "sorted_freq_dist = sorted(frequency_dist, key=frequency_dist.__getitem__, reverse=True)\n",
    "sorted_freq_dist"
   ]
  },
  {
   "cell_type": "code",
   "execution_count": 78,
   "id": "7e478312",
   "metadata": {},
   "outputs": [],
   "source": [
    "# Lets consider the words greater than 3\n",
    "\n",
    "large_words = dict([(k,v) for k,v in frequency_dist.items() if len(k) > 3])"
   ]
  },
  {
   "cell_type": "code",
   "execution_count": 80,
   "id": "e6e3bdce",
   "metadata": {},
   "outputs": [
    {
     "data": {
      "image/png": "[encoded data removed]",
      "text/plain": [
       "<Figure size 432x288 with 1 Axes>"
      ]
     },
     "metadata": {
      "needs_background": "light"
     },
     "output_type": "display_data"
    },
    {
     "data": {
      "text/plain": [
       "<AxesSubplot:xlabel='Samples', ylabel='Counts'>"
      ]
     },
     "execution_count": 80,
     "metadata": {},
     "output_type": "execute_result"
    }
   ],
   "source": [
    "frequency_dict = nltk.FreqDist(large_words)\n",
    "frequency_dict.plot(20, cumulative=False)"
   ]
  },
  {
   "cell_type": "code",
   "execution_count": 116,
   "id": "c17b4d66",
   "metadata": {},
   "outputs": [
    {
     "data": {
      "image/png": "[encoded data removed]",
      "text/plain": [
       "<Figure size 864x648 with 1 Axes>"
      ]
     },
     "metadata": {
      "needs_background": "light"
     },
     "output_type": "display_data"
    }
   ],
   "source": [
    "# Build the word cloud\n",
    "from wordcloud import WordCloud\n",
    "\n",
    "wcloud = WordCloud().generate_from_frequencies(frequency_dist)\n",
    "\n",
    "# ploting wcloud \n",
    "\n",
    "import matplotlib.pyplot as plt\n",
    "\n",
    "plt.figure(figsize=(12,9))\n",
    "plt.imshow(wcloud, interpolation='bilinear')\n",
    "plt.axis(\"off\")\n",
    "plt.show()"
   ]
  },
  {
   "cell_type": "code",
   "execution_count": 97,
   "id": "855bd7b8",
   "metadata": {},
   "outputs": [],
   "source": [
    "wt_words1 = []\n",
    "for w in wt_words:\n",
    "    if w not in stop:\n",
    "        wt_words1.append(w)"
   ]
  },
  {
   "cell_type": "code",
   "execution_count": 98,
   "id": "b9283c88",
   "metadata": {},
   "outputs": [
    {
     "data": {
      "text/plain": [
       "76154"
      ]
     },
     "execution_count": 98,
     "metadata": {},
     "output_type": "execute_result"
    }
   ],
   "source": [
    "len(wt_words1)"
   ]
  },
  {
   "cell_type": "code",
   "execution_count": 110,
   "id": "3ca9192e",
   "metadata": {},
   "outputs": [],
   "source": [
    "freq_dist1 = FreqDist(wt_words1)"
   ]
  },
  {
   "cell_type": "code",
   "execution_count": 111,
   "id": "5e581665",
   "metadata": {},
   "outputs": [
    {
     "data": {
      "text/plain": [
       "FreqDist({'.': 2428, '\"': 1971, \"'\": 1507, '-': 1372, '(': 770, 'page': 719, ')': 645, 'window': 607, 'Firefox': 602, 'open': 479, ...})"
      ]
     },
     "execution_count": 111,
     "metadata": {},
     "output_type": "execute_result"
    }
   ],
   "source": [
    "freq_dist1"
   ]
  },
  {
   "cell_type": "code",
   "execution_count": 101,
   "id": "9befb2b0",
   "metadata": {},
   "outputs": [],
   "source": [
    "sorted_freq_dist1 = sorted(freq_dist1,key=freq_dist1.__getitem__, reverse = True)\n",
    "\n",
    "large_words1 = dict([k,v] for k,v in freq_dist1.items() if len(k)>3)"
   ]
  },
  {
   "cell_type": "code",
   "execution_count": 103,
   "id": "eeae229a",
   "metadata": {},
   "outputs": [
    {
     "data": {
      "text/plain": [
       "7111"
      ]
     },
     "execution_count": 103,
     "metadata": {},
     "output_type": "execute_result"
    }
   ],
   "source": [
    "len(large_words1)"
   ]
  },
  {
   "cell_type": "code",
   "execution_count": 113,
   "id": "5692cb89",
   "metadata": {},
   "outputs": [],
   "source": [
    "frequency_dist = nltk.FreqDist(large_words1)"
   ]
  },
  {
   "cell_type": "code",
   "execution_count": 114,
   "id": "a01db4d1",
   "metadata": {},
   "outputs": [
    {
     "data": {
      "text/plain": [
       "FreqDist({'page': 719, 'window': 607, 'Firefox': 602, 'open': 479, 'menu': 462, 'Firebird': 437, 'work': 414, 'browser': 392, 'toolbar': 364, 'button': 363, ...})"
      ]
     },
     "execution_count": 114,
     "metadata": {},
     "output_type": "execute_result"
    }
   ],
   "source": [
    "frequency_dist"
   ]
  },
  {
   "cell_type": "code",
   "execution_count": 117,
   "id": "90593d12",
   "metadata": {},
   "outputs": [
    {
     "ename": "TypeError",
     "evalue": "generate_from_frequencies() missing 1 required positional argument: 'frequencies'",
     "output_type": "error",
     "traceback": [
      "\u001b[1;31m---------------------------------------------------------------------------\u001b[0m",
      "\u001b[1;31mTypeError\u001b[0m                                 Traceback (most recent call last)",
      "Input \u001b[1;32mIn [117]\u001b[0m, in \u001b[0;36m<cell line: 1>\u001b[1;34m()\u001b[0m\n\u001b[1;32m----> 1\u001b[0m wtcloud1 \u001b[38;5;241m=\u001b[39m \u001b[43mWordCloud\u001b[49m\u001b[38;5;241;43m.\u001b[39;49m\u001b[43mgenerate_from_frequencies\u001b[49m\u001b[43m(\u001b[49m\u001b[43mfrequency_dist\u001b[49m\u001b[43m)\u001b[49m\n\u001b[0;32m      3\u001b[0m plt\u001b[38;5;241m.\u001b[39mfigure(figsize\u001b[38;5;241m=\u001b[39m(\u001b[38;5;241m12\u001b[39m,\u001b[38;5;241m9\u001b[39m))\n\u001b[0;32m      4\u001b[0m plt\u001b[38;5;241m.\u001b[39mimshow(wtcloud, interpolation\u001b[38;5;241m=\u001b[39m\u001b[38;5;124m'\u001b[39m\u001b[38;5;124mbilinear\u001b[39m\u001b[38;5;124m'\u001b[39m)\n",
      "\u001b[1;31mTypeError\u001b[0m: generate_from_frequencies() missing 1 required positional argument: 'frequencies'"
     ]
    }
   ],
   "source": [
    "wtcloud1 = WordCloud.generate_from_frequencies(frequency_dist)\n",
    "\n",
    "plt.figure(figsize=(12,9))\n",
    "plt.imshow(wtcloud, interpolation='bilinear')\n",
    "plt.axis(\"off\")\n",
    "plt.show()"
   ]
  },
  {
   "cell_type": "markdown",
   "id": "5c29bd1d",
   "metadata": {},
   "source": [
    "#### Building the text pipeline\n",
    "\n",
    "You want to build an end-to-end text preprocessing pipeline. Whenever\n",
    "you want to do preprocessing for any NLP application, you can directly\n",
    "plug in data to this pipeline function and get the required clean text data as\n",
    "the output"
   ]
  },
  {
   "cell_type": "code",
   "execution_count": 3,
   "id": "70c82760",
   "metadata": {},
   "outputs": [],
   "source": [
    "# Read and create the text data\n",
    "\n",
    "tweet_sample = \"How to take control of your #debt https://personal.vanguard.com/us/insights/saving-investing/debt-management.#Best advice for #family #financial #success(@PrepareToWin)\""
   ]
  },
  {
   "cell_type": "code",
   "execution_count": 22,
   "id": "04fdabf9",
   "metadata": {},
   "outputs": [],
   "source": [
    "# Process the text\n",
    "\n",
    "def ProcessRow(row):\n",
    "    import re\n",
    "    import nltk\n",
    "    from textblob import TextBlob\n",
    "    from textblob import Word\n",
    "    from nltk.corpus import stopwords\n",
    "    from nltk.stem import PorterStemmer\n",
    "    from nltk.util import ngrams\n",
    "    from wordcloud import WordCloud, STOPWORDS\n",
    "    from nltk.tokenize import word_tokenize\n",
    "    \n",
    "    st = PorterStemmer()\n",
    "    tweet = row\n",
    "    # lower case\n",
    "    tweet.lower()\n",
    "    # Remove unicode string like \"/u002c\" \"x96\"\n",
    "    tweet = re.sub(r'(\\\\u[0-9A-Fa-f]+)',r\"\", tweet) \n",
    "    tweet = re.sub(r'[^\\x00-\\x7f]',r\"\",tweet)\n",
    "    # Covert any url to URL\n",
    "    tweet = re.sub(r'((www\\.[^\\s]+) | (https?://[^\\s]+))',' URL',tweet)\n",
    "    #Convert any @Username to \"AT_USER\"\n",
    "    tweet = re.sub('@[^\\s]+','AT_USER',tweet)\n",
    "    #Remove additional white spaces\n",
    "    tweet = re.sub('[\\s]+', ' ', tweet)\n",
    "    tweet = re.sub('[\\n]+', ' ', tweet)\n",
    "    # Remove not alphanumeric symbols white spaces\n",
    "    tweet = re.sub(r'[^\\w]', \" \", tweet)\n",
    "    tweet = re.sub(r'#([^\\s]+)', r'\\1', tweet)\n",
    "    #Replace #word with word\n",
    "    tweet = re.sub(r'#([^\\s]+)', r'\\1', tweet)\n",
    "    #Remove :( or :)\n",
    "    tweet = tweet.replace(':)',\"\")\n",
    "    tweet = tweet.replace(':(',\"\")\n",
    "    #remove numbers\n",
    "    tweet = \"\".join([i for i in tweet if not i.isdigit()])\n",
    "    #remove multiple exclamation\n",
    "    tweet = re.sub(r\"(\\!)\\1+\", ' ', tweet)\n",
    "    #remove multiple question marks\n",
    "    tweet = re.sub(r\"(\\?)\\1+\", ' ', tweet)\n",
    "    #remove multistop\n",
    "    tweet = re.sub(r\"(\\.)\\1+\", ' ', tweet)\n",
    "    # lemma\n",
    "    tweet = \" \".join([Word(word).lemmatize() for word in tweet.split()])\n",
    "    # stemmer\n",
    "    tweet = \" \".join([st.stem(word) for word in tweet.split()])\n",
    "    # Removing emoticons\n",
    "    tweet = re.sub(':\\)|;\\)|:-\\)|\\(-:|:-D|=D|:P|xD|X-p|\\^\\^|:-*|\\^\\.\\^|\\^\\-\\^|\\^\\_\\^|\\,-\\)|\\)-:|:\\'\\(|:\\(|:-\\(|:\\S|T\\.T|\\.\\_\\.|:<|:-\\S|:-<|\\*\\-\\*|:O|=O|=\\-O|O\\.o|XO|O\\_O|:-\\@|=/|:/|X\\-\\(|>\\.<|>=\\(|D:',\"\", tweet)\n",
    "    # trim\n",
    "    tweet = tweet.strip('\\'\"')\n",
    "    row = tweet\n",
    "    return row"
   ]
  },
  {
   "cell_type": "code",
   "execution_count": 23,
   "id": "2df5ef56",
   "metadata": {},
   "outputs": [
    {
     "data": {
      "text/plain": [
       "'how to take control of your debt url advic for famili financi success at_us'"
      ]
     },
     "execution_count": 23,
     "metadata": {},
     "output_type": "execute_result"
    }
   ],
   "source": [
    "ProcessRow(tweet_sample)"
   ]
  },
  {
   "cell_type": "code",
   "execution_count": null,
   "id": "9446d40c",
   "metadata": {},
   "outputs": [],
   "source": []
  }
 ],
 "metadata": {
  "kernelspec": {
   "display_name": "Python 3 (ipykernel)",
   "language": "python",
   "name": "python3"
  },
  "language_info": {
   "codemirror_mode": {
    "name": "ipython",
    "version": 3
   },
   "file_extension": ".py",
   "mimetype": "text/x-python",
   "name": "python",
   "nbconvert_exporter": "python",
   "pygments_lexer": "ipython3",
   "version": "3.9.12"
  }
 },
 "nbformat": 4,
 "nbformat_minor": 5
}
